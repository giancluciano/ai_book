{
 "cells": [
  {
   "cell_type": "markdown",
   "id": "5e385b7f-9dfd-42d0-99bb-7c07a75d51d9",
   "metadata": {},
   "source": [
    "# cartpole"
   ]
  },
  {
   "cell_type": "code",
   "execution_count": 46,
   "id": "c06841ad-e232-4b9b-8cb6-dda3dc234a8f",
   "metadata": {},
   "outputs": [],
   "source": [
    "import matplotlib.pyplot as plt\n",
    "import gymnasium as gym\n",
    "from IPython import display\n",
    "%matplotlib inline\n",
    "\n"
   ]
  },
  {
   "cell_type": "code",
   "execution_count": 52,
   "id": "d3774603-bd69-4d2e-a6c3-266c21d3cf71",
   "metadata": {},
   "outputs": [],
   "source": [
    "env = gym.make(\"CartPole-v1\", render_mode=\"rgb_array\")\n",
    "observation, info = env.reset()\n",
    "\n",
    "terminated = False\n",
    "truncated = False\n",
    "\n",
    "while not terminated and not truncated:\n",
    "    new_state, reward, terminated, truncated, _ = env.step(env.action_space.sample())\n",
    "    observation = new_state\n",
    "env.close()"
   ]
  },
  {
   "cell_type": "code",
   "execution_count": 49,
   "id": "9a4c2929-0e8f-489a-928a-ebe11ee17bc3",
   "metadata": {},
   "outputs": [
    {
     "data": {
      "image/png": "[encoded data removed]",
      "text/plain": [
       "<Figure size 200x100 with 1 Axes>"
      ]
     },
     "metadata": {},
     "output_type": "display_data"
    }
   ],
   "source": [
    "\n",
    "## ploting on jupyter\n",
    "plt.figure(figsize=(2, 1))\n",
    "for i in range(25):\n",
    "   plt.imshow(env.render())\n",
    "   display.display(plt.gcf())\n",
    "   display.clear_output(wait=True)\n",
    "   env.step(env.action_space.sample()) # take a random action\n",
    "\n",
    "env.close()\n"
   ]
  },
  {
   "cell_type": "code",
   "execution_count": 54,
   "id": "a0b91867-09b1-49fd-8730-bee38c12f8e7",
   "metadata": {},
   "outputs": [
    {
     "ename": "AttributeError",
     "evalue": "'Box' object has no attribute 'n'",
     "output_type": "error",
     "traceback": [
      "\u001b[31m---------------------------------------------------------------------------\u001b[39m",
      "\u001b[31mAttributeError\u001b[39m                            Traceback (most recent call last)",
      "\u001b[36mCell\u001b[39m\u001b[36m \u001b[39m\u001b[32mIn[54]\u001b[39m\u001b[32m, line 5\u001b[39m\n\u001b[32m      2\u001b[39m env = gym.make(\u001b[33m\"\u001b[39m\u001b[33mCartPole-v1\u001b[39m\u001b[33m\"\u001b[39m, render_mode=\u001b[33m\"\u001b[39m\u001b[33mrgb_array\u001b[39m\u001b[33m\"\u001b[39m)\n\u001b[32m      3\u001b[39m observation, info = env.reset()\n\u001b[32m----> \u001b[39m\u001b[32m5\u001b[39m q = np.zeros((\u001b[43menv\u001b[49m\u001b[43m.\u001b[49m\u001b[43mobservation_space\u001b[49m\u001b[43m.\u001b[49m\u001b[43mn\u001b[49m, env.action_space.n))\n\u001b[32m      7\u001b[39m terminated = \u001b[38;5;28;01mFalse\u001b[39;00m\n\u001b[32m      8\u001b[39m truncated = \u001b[38;5;28;01mFalse\u001b[39;00m\n",
      "\u001b[31mAttributeError\u001b[39m: 'Box' object has no attribute 'n'"
     ]
    }
   ],
   "source": [
    "import numpy as np\n",
    "env = gym.make(\"CartPole-v1\", render_mode=\"rgb_array\")\n",
    "observation, info = env.reset()\n",
    "\n",
    "q = np.zeros((env.observation_space.n, env.action_space.n))\n",
    "\n",
    "terminated = False\n",
    "truncated = False\n",
    "\n",
    "learning_rate_a = 0.9\n",
    "discount_factor_g = 0.9\n",
    "\n",
    "\n",
    "while not terminated and not truncated:\n",
    "    new_state, reward, terminated, truncated, _ = env.step(env.action_space.sample())\n",
    "    observation = new_state\n",
    "\n",
    "env.close()"
   ]
  },
  {
   "cell_type": "code",
   "execution_count": null,
   "id": "60fb822f-bbce-47fd-90c5-2c2320d0221c",
   "metadata": {},
   "outputs": [],
   "source": []
  }
 ],
 "metadata": {
  "kernelspec": {
   "display_name": "Python 3 (ipykernel)",
   "language": "python",
   "name": "python3"
  },
  "language_info": {
   "codemirror_mode": {
    "name": "ipython",
    "version": 3
   },
   "file_extension": ".py",
   "mimetype": "text/x-python",
   "name": "python",
   "nbconvert_exporter": "python",
   "pygments_lexer": "ipython3",
   "version": "3.13.3"
  }
 },
 "nbformat": 4,
 "nbformat_minor": 5
}
