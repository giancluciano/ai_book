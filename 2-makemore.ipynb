{
 "cells": [
  {
   "cell_type": "code",
   "execution_count": 1,
   "id": "e2ad4f0d-570e-465d-8421-a6f694ba2096",
   "metadata": {},
   "outputs": [
    {
     "name": "stdout",
     "output_type": "stream",
     "text": [
      "Path to dataset files: /home/gian/.cache/kagglehub/datasets/rtatman/english-word-frequency/versions/1\n"
     ]
    }
   ],
   "source": [
    "import kagglehub\n",
    "\n",
    "# Download latest version\n",
    "path = kagglehub.dataset_download(\"rtatman/english-word-frequency\")\n",
    "\n",
    "print(\"Path to dataset files:\", path)"
   ]
  },
  {
   "cell_type": "code",
   "execution_count": 2,
   "id": "57185cbf-639f-4106-84ea-573ec81c6b3d",
   "metadata": {},
   "outputs": [],
   "source": [
    "from polars import read_csv\n",
    "\n",
    "words_dataframe = read_csv(path + \"/unigram_freq.csv\")\n",
    "# list of words\n",
    "words = [ w for w in words_dataframe[\"word\"][0:50000] if len(w) > 1]\n",
    "\n",
    "bigrams = {}\n",
    "for w in words:\n",
    "    chs = ['<S>'] + list(w) + ['<E>']\n",
    "    for b in zip(chs, chs[1:]):\n",
    "        bigrams[b] = bigrams.get(b, 0) + 1"
   ]
  },
  {
   "cell_type": "code",
   "execution_count": 3,
   "id": "db9000bd-90e5-42b3-91c7-fde269c88279",
   "metadata": {},
   "outputs": [],
   "source": [
    "bigrams = sorted(bigrams.items(), key=lambda x: x[1], reverse=True)\n",
    "# bigrams"
   ]
  },
  {
   "cell_type": "code",
   "execution_count": 4,
   "id": "d5b4d68a-2305-443d-b5ec-1a4b2dda0231",
   "metadata": {},
   "outputs": [],
   "source": [
    "import torch\n",
    "N = torch.zeros((27,27), dtype=torch.int32)"
   ]
  },
  {
   "cell_type": "code",
   "execution_count": 18,
   "id": "1356cdb2-3a29-41ca-9f34-85dbe2b5bcc9",
   "metadata": {},
   "outputs": [],
   "source": [
    "chars = sorted(list(set(\"\".join(words))))\n",
    "stoi = {s:i+1 for i,s in enumerate(chars)}\n",
    "stoi['.'] = 0\n",
    "itos = {i:s for s,i in stoi.items()}"
   ]
  },
  {
   "cell_type": "code",
   "execution_count": 6,
   "id": "d24ed397-f7d8-4929-8618-fea58ea68566",
   "metadata": {},
   "outputs": [],
   "source": [
    "for w in words:\n",
    "    chs = ['.'] + list(w) + ['.']\n",
    "    for b in zip(chs, chs[1:]):\n",
    "        N[stoi[b[0]], stoi[b[1]]] += 1"
   ]
  },
  {
   "cell_type": "code",
   "execution_count": 7,
   "id": "a888842b-63bd-4ec8-8c17-03e86669e5b8",
   "metadata": {},
   "outputs": [
    {
     "data": {
      "text/plain": [
       "<matplotlib.image.AxesImage at 0x7ffe60d638c0>"
      ]
     },
     "execution_count": 7,
     "metadata": {},
     "output_type": "execute_result"
    },
    {
     "data": {
      "image/png": "[encoded data removed]",
      "text/plain": [
       "<Figure size 640x480 with 1 Axes>"
      ]
     },
     "metadata": {},
     "output_type": "display_data"
    }
   ],
   "source": [
    "import matplotlib.pyplot as plt\n",
    "%matplotlib inline\n",
    "plt.imshow(N)"
   ]
  },
  {
   "cell_type": "code",
   "execution_count": 14,
   "id": "bcceebfd-4808-4bbc-b135-3d728803aafb",
   "metadata": {},
   "outputs": [
    {
     "data": {
      "text/plain": [
       "tensor([0.0000, 0.0667, 0.0575, 0.0929, 0.0552, 0.0420, 0.0401, 0.0352, 0.0390,\n",
       "        0.0378, 0.0133, 0.0165, 0.0367, 0.0615, 0.0264, 0.0232, 0.0708, 0.0047,\n",
       "        0.0532, 0.1004, 0.0509, 0.0182, 0.0176, 0.0282, 0.0028, 0.0046, 0.0042])"
      ]
     },
     "execution_count": 14,
     "metadata": {},
     "output_type": "execute_result"
    }
   ],
   "source": [
    "p = N[0].float()\n",
    "p = p / p.sum()\n",
    "p"
   ]
  },
  {
   "cell_type": "code",
   "execution_count": 19,
   "id": "ccaa636f-84c0-403c-8313-193db36ee902",
   "metadata": {},
   "outputs": [
    {
     "data": {
      "text/plain": [
       "'c'"
      ]
     },
     "execution_count": 19,
     "metadata": {},
     "output_type": "execute_result"
    }
   ],
   "source": [
    "g = torch.Generator().manual_seed(1)\n",
    "ix = torch.multinomial(p, num_samples=1, replacement=True, generator=g).item()\n",
    "itos[ix]"
   ]
  },
  {
   "cell_type": "code",
   "execution_count": 21,
   "id": "60b79703-ae9d-4cbb-9a01-c004b33469af",
   "metadata": {},
   "outputs": [
    {
     "name": "stdout",
     "output_type": "stream",
     "text": [
      "che.\n"
     ]
    }
   ],
   "source": [
    "g = torch.Generator().manual_seed(1)\n",
    "ix = 0\n",
    "word = \"\"\n",
    "while True:\n",
    "    p = N[ix].float()\n",
    "    p = p / p.sum()\n",
    "    ix = torch.multinomial(p, num_samples=1, replacement=True, generator=g).item()\n",
    "    word = word + itos[ix]\n",
    "    if ix == 0:\n",
    "        print(word)\n",
    "        break\n",
    "    "
   ]
  },
  {
   "cell_type": "code",
   "execution_count": 25,
   "id": "dd9da25a-b065-49a6-af26-5e48eaea2808",
   "metadata": {},
   "outputs": [],
   "source": [
    "P = N.float()\n",
    "P = P / P.sum(1, keepdim=True)"
   ]
  },
  {
   "cell_type": "code",
   "execution_count": 26,
   "id": "f54558cf-ec65-4581-93a7-0e08c9926680",
   "metadata": {},
   "outputs": [
    {
     "data": {
      "text/plain": [
       "tensor([ 0, 20,  8,  5])"
      ]
     },
     "execution_count": 26,
     "metadata": {},
     "output_type": "execute_result"
    }
   ],
   "source": [
    "# now with neural networks\n",
    "xs, ys = [], []\n",
    "for w in words[:1]:\n",
    "    chs = ['.'] + list(w) + ['.']\n",
    "    for ch1, ch2 in zip(chs, chs[1:]):\n",
    "        xs.append(stoi[ch1])\n",
    "        ys.append(stoi[ch2])\n",
    "\n",
    "xs = torch.tensor(xs)\n",
    "ys = torch.tensor(ys)"
   ]
  },
  {
   "cell_type": "code",
   "execution_count": 52,
   "id": "ec41ad99-07b3-485e-804f-e6aa2bbef313",
   "metadata": {},
   "outputs": [
    {
     "data": {
      "text/plain": [
       "tensor([[0.0864, 0.0089, 0.0062, 0.0142, 0.0178, 0.0299, 0.0067, 0.0092, 0.0219,\n",
       "         0.0106, 0.2942, 0.0317, 0.0044, 0.1032, 0.0125, 0.0097, 0.0204, 0.0073,\n",
       "         0.0303, 0.0065, 0.0812, 0.0201, 0.0079, 0.0142, 0.0109, 0.0126, 0.1210],\n",
       "        [0.0258, 0.0268, 0.0423, 0.0084, 0.0159, 0.0074, 0.0112, 0.0763, 0.0146,\n",
       "         0.0391, 0.0174, 0.0062, 0.0136, 0.0037, 0.0156, 0.0945, 0.1472, 0.0351,\n",
       "         0.0633, 0.0291, 0.0268, 0.0150, 0.0220, 0.0507, 0.0118, 0.1149, 0.0651],\n",
       "        [0.1462, 0.0076, 0.0250, 0.0379, 0.0122, 0.0021, 0.0173, 0.0178, 0.0199,\n",
       "         0.0061, 0.0206, 0.0464, 0.0293, 0.0146, 0.0035, 0.0164, 0.0335, 0.1532,\n",
       "         0.0244, 0.0686, 0.1360, 0.0626, 0.0099, 0.0488, 0.0107, 0.0098, 0.0195],\n",
       "        [0.0436, 0.0103, 0.0594, 0.0383, 0.0175, 0.0350, 0.0233, 0.0530, 0.0123,\n",
       "         0.0219, 0.0172, 0.0958, 0.0378, 0.0546, 0.0206, 0.0327, 0.0198, 0.0168,\n",
       "         0.0451, 0.0584, 0.0951, 0.0312, 0.0316, 0.0288, 0.0352, 0.0432, 0.0213]],\n",
       "       grad_fn=<DivBackward0>)"
      ]
     },
     "execution_count": 52,
     "metadata": {},
     "output_type": "execute_result"
    }
   ],
   "source": [
    "import torch.nn.functional as F\n",
    "xenc = F.one_hot(xs, num_classes=27).float()\n",
    "\n",
    "W = torch.randn((27, 27), requires_grad=True)\n",
    "logits = xenc @ W # logs counts\n",
    "counts = logits.exp() # equivalent N\n",
    "probs = counts / counts.sum(1, keepdims=True)\n",
    "probs\n"
   ]
  },
  {
   "cell_type": "code",
   "execution_count": 53,
   "id": "4e333f8a-15ae-4118-8529-be3beaa19b5c",
   "metadata": {},
   "outputs": [
    {
     "data": {
      "text/plain": [
       "tensor(4.0138, grad_fn=<NegBackward0>)"
      ]
     },
     "execution_count": 53,
     "metadata": {},
     "output_type": "execute_result"
    }
   ],
   "source": [
    "loss = - probs[torch.arange(4), ys].log().mean()\n",
    "loss"
   ]
  },
  {
   "cell_type": "code",
   "execution_count": 54,
   "id": "93349a95-a4c1-4de3-8f85-f04a494e2735",
   "metadata": {},
   "outputs": [],
   "source": [
    "# backward pass\n",
    "W.grad = None # set to zero the gradient\n",
    "loss.backward()\n",
    "W.data += -0.001 * W.grad"
   ]
  },
  {
   "cell_type": "code",
   "execution_count": 55,
   "id": "335ffc03-8385-403b-be2b-4545fbd8c86e",
   "metadata": {},
   "outputs": [
    {
     "data": {
      "text/plain": [
       "tensor(4.0135, grad_fn=<NegBackward0>)"
      ]
     },
     "execution_count": 55,
     "metadata": {},
     "output_type": "execute_result"
    }
   ],
   "source": [
    "xenc = F.one_hot(xs, num_classes=27).float()\n",
    "logits = xenc @ W # logs counts\n",
    "counts = logits.exp() # equivalent N\n",
    "probs = counts / counts.sum(1, keepdims=True)\n",
    "loss = - probs[torch.arange(4), ys].log().mean()\n",
    "loss # loss is lower after backward pass"
   ]
  },
  {
   "cell_type": "code",
   "execution_count": 68,
   "id": "a257700f-fb1e-494e-a15c-77b6d062a78f",
   "metadata": {},
   "outputs": [],
   "source": [
    "# everything put together\n",
    "\n",
    "xs, ys = [], []\n",
    "for w in words:\n",
    "    chs = ['.'] + list(w) + ['.']\n",
    "    for ch1, ch2 in zip(chs, chs[1:]):\n",
    "        xs.append(stoi[ch1])\n",
    "        ys.append(stoi[ch2])\n",
    "\n",
    "xs = torch.tensor(xs)\n",
    "ys = torch.tensor(ys)\n",
    "num = xs.nelement()\n",
    "W = torch.randn((27, 27), requires_grad=True)"
   ]
  },
  {
   "cell_type": "code",
   "execution_count": 74,
   "id": "63e7d6cb-c848-4a27-9b2d-88a3ad713ce3",
   "metadata": {},
   "outputs": [
    {
     "name": "stdout",
     "output_type": "stream",
     "text": [
      "0:00:26.158976\n"
     ]
    }
   ],
   "source": [
    "xenc = F.one_hot(xs, num_classes=27).float()\n",
    "from datetime import datetime\n",
    "\n",
    "start = datetime.now()\n",
    "for k in range(100):\n",
    "    counts = (xenc @ W).exp()\n",
    "    probs = counts / counts.sum(1, keepdims=True)\n",
    "    loss = - probs[torch.arange(num), ys].log().mean()\n",
    "    #print(loss)\n",
    "\n",
    "    W.grad = None\n",
    "    loss.backward()\n",
    "    W.data += -0.1 * W.grad\n",
    "\n",
    "print(datetime.now() - start)"
   ]
  },
  {
   "cell_type": "code",
   "execution_count": 61,
   "id": "7fbf5664-aa93-437b-832e-95fce7704540",
   "metadata": {},
   "outputs": [
    {
     "data": {
      "text/plain": [
       "tensor([[0.0278, 0.0167, 0.1520,  ..., 0.0359, 0.0689, 0.0379],\n",
       "        [0.0405, 0.0125, 0.0380,  ..., 0.0418, 0.0023, 0.0253],\n",
       "        [0.0115, 0.0187, 0.0870,  ..., 0.0152, 0.0118, 0.0263],\n",
       "        ...,\n",
       "        [0.0094, 0.0486, 0.0071,  ..., 0.0180, 0.0324, 0.0735],\n",
       "        [0.0113, 0.0034, 0.0047,  ..., 0.0201, 0.0216, 0.0112],\n",
       "        [0.0113, 0.0034, 0.0047,  ..., 0.0201, 0.0216, 0.0112]],\n",
       "       grad_fn=<DivBackward0>)"
      ]
     },
     "execution_count": 61,
     "metadata": {},
     "output_type": "execute_result"
    }
   ],
   "source": [
    "probs"
   ]
  },
  {
   "cell_type": "code",
   "execution_count": 75,
   "id": "59f3a538-9316-4820-93c2-d7a65cb1b12d",
   "metadata": {},
   "outputs": [
    {
     "name": "stdout",
     "output_type": "stream",
     "text": [
      "dbrpzopzuwririqwbaydbapasvyvgr.\n",
      "dbwabzwtevg.\n",
      "alkfwf.\n",
      "ekxkrxsszugafwefaaeccparpdbriwgiqkfqkhykuafxmphqzuh.\n",
      "qbr.\n"
     ]
    }
   ],
   "source": [
    "#samples\n",
    "for i in range(5):\n",
    "    word = \"\"\n",
    "    ix = 0\n",
    "    while True:\n",
    "        xenc = F.one_hot(torch.tensor([ix]), num_classes=27).float()\n",
    "        logits = xenc @ W\n",
    "        counts = logits.exp()\n",
    "        p = counts / counts.sum(1, keepdims=True)\n",
    "\n",
    "        ix = torch.multinomial(p, num_samples=1, replacement=True).item()\n",
    "        word = word + itos[ix]\n",
    "        if ix == 0:\n",
    "            break\n",
    "    print(word)\n",
    "        \n",
    "                         "
   ]
  },
  {
   "cell_type": "code",
   "execution_count": null,
   "id": "5ce92edf-2d0d-47a0-96e7-8e9b7c6237da",
   "metadata": {},
   "outputs": [],
   "source": []
  }
 ],
 "metadata": {
  "kernelspec": {
   "display_name": "Python 3 (ipykernel)",
   "language": "python",
   "name": "python3"
  },
  "language_info": {
   "codemirror_mode": {
    "name": "ipython",
    "version": 3
   },
   "file_extension": ".py",
   "mimetype": "text/x-python",
   "name": "python",
   "nbconvert_exporter": "python",
   "pygments_lexer": "ipython3",
   "version": "3.13.3"
  }
 },
 "nbformat": 4,
 "nbformat_minor": 5
}
